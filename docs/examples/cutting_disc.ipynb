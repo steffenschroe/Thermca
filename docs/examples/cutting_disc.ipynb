{
 "cells": [
  {
   "cell_type": "markdown",
   "metadata": {
    "pycharm": {
     "name": "#%% md\n"
    }
   },
   "source": [
    "## Cutting flex disc with changing speeds \n",
    "The aim of the example is the demonstration of time varying input variables. This is done with an example of a cutting flex disc on an angle grinder with changing speeds. The real world beheaviour is thereby very roughly estimated."
   ]
  },
  {
   "cell_type": "code",
   "execution_count": 1,
   "metadata": {
    "pycharm": {
     "name": "#%%\n"
    }
   },
   "outputs": [],
   "source": [
    "from numpy import set_printoptions, linspace\n",
    "from math import tau\n",
    "from thermca import *"
   ]
  },
  {
   "cell_type": "markdown",
   "metadata": {
    "pycharm": {
     "name": "#%% md\n"
    }
   },
   "source": [
    "Modeling a flex disc with a homogenised material mix from existing database materials."
   ]
  },
  {
   "cell_type": "code",
   "execution_count": 2,
   "metadata": {
    "pycharm": {
     "name": "#%%\n"
    }
   },
   "outputs": [],
   "source": [
    "with Asm() as disc_asm:\n",
    "    cyl = Cyl(\n",
    "        inner_rad=.011,\n",
    "        outer_rad=.075,\n",
    "        lgth=.0015,\n",
    "        rad_div=16,\n",
    "    )\n",
    "    Surf(\n",
    "        name='circ_faces',\n",
    "        faces=[cyl.face.base, cyl.face.end],\n",
    "    )\n",
    "    Surf(\n",
    "        name='outer',\n",
    "        faces=[cyl.face.outer],\n",
    "    )\n",
    "    Surf(\n",
    "        name='inner',\n",
    "        faces=[cyl.face.inner],\n",
    "    )\n",
    "\n",
    "with Model() as model:\n",
    "    reinforced_abrasive = Solid.mix(\n",
    "        matls=(solids.alumina, solids.glass),\n",
    "        shares=(.9, .1)\n",
    "    )\n",
    "    disc = LPPart(\n",
    "        asm=disc_asm,\n",
    "        matl=reinforced_abrasive,\n",
    "        init_temp=20.,\n",
    "        name='flex_disc',\n",
    "    )"
   ]
  },
  {
   "cell_type": "markdown",
   "metadata": {
    "pycharm": {
     "name": "#%% md\n"
    }
   },
   "source": [
    "The measured ambient temperature changes significantly. Hence it is used as a time changing simulation boundary condition. Time changing model inputs are considered with `Input` elements. This elements take a two dimensional sequence in a regular array shape as argument. The first column contains the time steps and the second column the corresponding values."
   ]
  },
  {
   "cell_type": "code",
   "execution_count": 3,
   "metadata": {
    "pycharm": {
     "name": "#%%\n"
    }
   },
   "outputs": [],
   "source": [
    "with model:\n",
    "    # Time steps and corresponding temperatures\n",
    "    env_temp = Input(\n",
    "        [[0, 19],   \n",
    "         [20, 23],\n",
    "         [40, 27]],  \n",
    "        name='environment_temperatures'\n",
    "    )"
   ]
  },
  {
   "cell_type": "markdown",
   "metadata": {
    "pycharm": {
     "name": "#%% md\n"
    }
   },
   "source": [
    "Boundary temperatures can be modeled as `BoundNode` point nodes. The `temp` argument can take functions to define time dependent temperatures. The temperature function itself does not take aruments and returns temperatures over simulation time. This kind of function delivers the `Input` model element itself with the `get_value` method."
   ]
  },
  {
   "cell_type": "code",
   "execution_count": 4,
   "metadata": {
    "pycharm": {
     "name": "#%%\n"
    }
   },
   "outputs": [],
   "source": [
    "with model:    \n",
    "    environment = BoundNode(\n",
    "        temp=env_temp.get_value,  # Given as function\n",
    "        name='environment',\n",
    "    )"
   ]
  },
  {
   "cell_type": "markdown",
   "metadata": {
    "pycharm": {
     "name": "#%% md\n"
    }
   },
   "source": [
    "At first a small cutting force is induced. After 20 seconds the force gets more powerful. This is results in a lower rotation speed. The time varying speed influences the convective heat transfer from the disc to the surrounding air. This heat transfer is modeled by a speed dependend heat transfer coefficient. For this purpose functions can be find in the `forced_conv` library. The functions return functions compatible with `FilmLink` elements (required arguments: surface temperature, surrounding fluid temperature and fluid). The keyword arguments of the library functions can be used to modify input parameters of the returned functions. The parameters may be time dependent like the rotation frequence below. The time changing behaviour is given as `value` attribute of `Input`s."
   ]
  },
  {
   "cell_type": "code",
   "execution_count": 5,
   "metadata": {
    "pycharm": {
     "name": "#%%\n"
    }
   },
   "outputs": [],
   "source": [
    "with model:    \n",
    "    rpm = tau/60\n",
    "    # Time steps at first and corresponding speeds at second column\n",
    "    rot_freq = Input(\n",
    "        [[0, 3000*rpm],  \n",
    "         [20, 6000*rpm]]  \n",
    "    )  \n",
    "      # Convection\n",
    "    FilmLink(\n",
    "        disc.surf.circ_faces,\n",
    "        environment,\n",
    "        film=forced_conv.rot_disc_in_air(\n",
    "            rot_freq=rot_freq.value,  # Given as time dependent value\n",
    "            rad=cyl.outer_rad,\n",
    "        )\n",
    "    )"
   ]
  },
  {
   "cell_type": "markdown",
   "metadata": {
    "pycharm": {
     "name": "#%% md\n"
    }
   },
   "source": [
    "The generated cutting heat increases after 20 seconds. This is also taken into account with an `Input` element. The heat loss itself can be modeled with a `HeatSource` element. It can take a function to describe time changing heat generation. The function is in this case created in place. It must take a parameter that contains the momentary element temperature at simulation time. This time the heat loss takes no temperature dependence in to account and is therefore ignored."
   ]
  },
  {
   "cell_type": "code",
   "execution_count": 6,
   "metadata": {
    "pycharm": {
     "name": "#%%\n"
    }
   },
   "outputs": [],
   "source": [
    "with model:\n",
    "    # Columns for time steps and heat\n",
    "    cutting_heat = Input(\n",
    "        [[0, 40],   \n",
    "         [20, 80]]  \n",
    "    )\n",
    "    HeatSource(\n",
    "        disc.surf.outer,\n",
    "        heat=lambda temp: cutting_heat.value\n",
    "    )    "
   ]
  },
  {
   "cell_type": "markdown",
   "metadata": {
    "pycharm": {
     "name": "#%% md\n"
    }
   },
   "source": [
    "Non continuous input steps with rapid input changes should be considered by the simulation. Currently the solver does not notice input changes."
   ]
  },
  {
   "cell_type": "code",
   "execution_count": 7,
   "metadata": {
    "pycharm": {
     "name": "#%%\n"
    }
   },
   "outputs": [
    {
     "name": "stdout",
     "output_type": "stream",
     "text": [
      "Simulation run progress, speed as sim. time vs. real time:\n",
      " 0% 100% done.\n"
     ]
    }
   ],
   "source": [
    "net = Network(model)\n",
    "sim_span = 50.\n",
    "result = net.sim([0., sim_span])"
   ]
  },
  {
   "cell_type": "markdown",
   "metadata": {
    "pycharm": {
     "name": "#%% md\n"
    }
   },
   "source": [
    "As the result inner and outer disc temperatures are extracted form the result data."
   ]
  },
  {
   "cell_type": "code",
   "execution_count": 8,
   "metadata": {
    "pycharm": {
     "name": "#%%\n"
    }
   },
   "outputs": [
    {
     "name": "stdout",
     "output_type": "stream",
     "text": [
      "times            :  [ 0.0  5.0  10.0  15.0  20.0  25.0  30.0  35.0  40.0  45.0  50.0]\n",
      "Outer disc temps.:  [ 20.0  36.4  44.9  51.6  59.3  79.9  93.6  105.0  115.0  124.0  132.2]\n",
      "Inner disc temps.:  [ 20.0  20.5  20.9  21.4  21.9  24.3  26.6  28.8  31.1  33.3  35.6]\n"
     ]
    }
   ],
   "source": [
    "result_times = linspace(0, sim_span, 11)\n",
    "set_printoptions(formatter={'float': '{: 0.1f}'.format})\n",
    "print(\"times            : \", result_times)\n",
    "print(\"Outer disc temps.: \", result[disc.surf.outer].temp(result_times))\n",
    "print(\"Inner disc temps.: \", result[disc.surf.inner].temp(result_times))"
   ]
  }
 ],
 "metadata": {
  "kernelspec": {
   "display_name": "Python 3 (ipykernel)",
   "language": "python",
   "name": "python3"
  },
  "language_info": {
   "codemirror_mode": {
    "name": "ipython",
    "version": 3
   },
   "file_extension": ".py",
   "mimetype": "text/x-python",
   "name": "python",
   "nbconvert_exporter": "python",
   "pygments_lexer": "ipython3",
   "version": "3.10.13"
  }
 },
 "nbformat": 4,
 "nbformat_minor": 4
}
