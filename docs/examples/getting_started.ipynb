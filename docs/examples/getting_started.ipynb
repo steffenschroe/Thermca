{
 "cells": [
  {
   "cell_type": "markdown",
   "metadata": {},
   "source": [
    "# Minimal model \"evenly heated body\"\n",
    "To get started, we will build the simplest possible model. It represents a evenly heated body inside a fluid with constant temperature. The model uses point node elements with lumped parameters."
   ]
  },
  {
   "cell_type": "markdown",
   "metadata": {},
   "source": [
    "We want to use Thermca as our main tool, so we import all names in to the global namespace.\n",
    "A model is build with thermal elements that have to be placed and linked in the context of a Model object:"
   ]
  },
  {
   "cell_type": "code",
   "execution_count": 1,
   "metadata": {},
   "outputs": [],
   "source": [
    "from thermca import *\n",
    "\n",
    "model = Model()"
   ]
  },
  {
   "cell_type": "markdown",
   "metadata": {},
   "source": [
    "Now we create a simple point node element with a defined capacity (capy) and initial temperature:"
   ]
  },
  {
   "cell_type": "code",
   "execution_count": 2,
   "metadata": {},
   "outputs": [],
   "source": [
    "with model:\n",
    "    point_body = Node(capy=1., init_temp=0., name='body')"
   ]
  },
  {
   "cell_type": "markdown",
   "metadata": {},
   "source": [
    "We model the fluid as a boundary condition of the body. This can be done by defining an node element with bound temperature."
   ]
  },
  {
   "cell_type": "code",
   "execution_count": 3,
   "metadata": {},
   "outputs": [],
   "source": [
    "with model:\n",
    "    bound_node = BoundNode(temp=1.)"
   ]
  },
  {
   "cell_type": "markdown",
   "metadata": {},
   "source": [
    "To complete the boundary condition, we have to connect the node elements. This is done by link elements. Point node elements have to be linked with conductance links. They are used to define a thermal conductance (cond) between the nodes.:"
   ]
  },
  {
   "cell_type": "code",
   "execution_count": 4,
   "metadata": {},
   "outputs": [],
   "source": [
    "with model:\n",
    "    CondLink(point_body, bound_node, cond=1.)"
   ]
  },
  {
   "cell_type": "markdown",
   "metadata": {},
   "source": [
    "After building, we run the model. Therefore, the model has to be transformed in a runnable network. The sim() method is then used to simulate the thermal behaviour over time.:"
   ]
  },
  {
   "cell_type": "code",
   "execution_count": 5,
   "metadata": {},
   "outputs": [
    {
     "name": "stdout",
     "output_type": "stream",
     "text": [
      "Simulation run progress, speed as sim. time vs. real time:\n",
      " 0% 100% done.\n"
     ]
    }
   ],
   "source": [
    "net = Network(model)\n",
    "results = net.sim(time_span=[0, 5.])"
   ]
  },
  {
   "cell_type": "markdown",
   "metadata": {},
   "source": [
    "Finally, we can get the results. Typically, we want to print the temperature over time. We can use the temp() method of the result object and insert the times we want temperatures for.:"
   ]
  },
  {
   "cell_type": "code",
   "execution_count": 6,
   "metadata": {},
   "outputs": [
    {
     "name": "stdout",
     "output_type": "stream",
     "text": [
      "Time       : 0.01, 0.02, 0.05, 0.10, 0.20, 0.50, 1.00, 2.00, 5.00\n",
      "Temperature: 0.01, 0.02, 0.05, 0.09, 0.17, 0.37, 0.61, 0.85, 0.99\n"
     ]
    }
   ],
   "source": [
    "result_times = [.01, .02, .05, .1, .2, .5, 1., 2., 5.]\n",
    "point_body_temps = results[point_body].temp(result_times)\n",
    "print('Time       :', ', '.join(f\"{ti:0.2f}\" for ti in result_times))\n",
    "print('Temperature:', ', '.join(f\"{te:0.2f}\" for te in point_body_temps))"
   ]
  },
  {
   "cell_type": "markdown",
   "metadata": {},
   "source": [
    "A more elegant way is to use a Pandas DataFrame. We can get one with the temp_frame method."
   ]
  },
  {
   "cell_type": "code",
   "execution_count": 7,
   "metadata": {},
   "outputs": [
    {
     "data": {
      "text/html": [
       "<div>\n",
       "<style scoped>\n",
       "    .dataframe tbody tr th:only-of-type {\n",
       "        vertical-align: middle;\n",
       "    }\n",
       "\n",
       "    .dataframe tbody tr th {\n",
       "        vertical-align: top;\n",
       "    }\n",
       "\n",
       "    .dataframe thead th {\n",
       "        text-align: right;\n",
       "    }\n",
       "</style>\n",
       "<table border=\"1\" class=\"dataframe\">\n",
       "  <thead>\n",
       "    <tr style=\"text-align: right;\">\n",
       "      <th>Temperature</th>\n",
       "      <th>body</th>\n",
       "    </tr>\n",
       "    <tr>\n",
       "      <th>Time</th>\n",
       "      <th></th>\n",
       "    </tr>\n",
       "  </thead>\n",
       "  <tbody>\n",
       "    <tr>\n",
       "      <th>0.000000</th>\n",
       "      <td>0.000000</td>\n",
       "    </tr>\n",
       "    <tr>\n",
       "      <th>0.000100</th>\n",
       "      <td>0.000100</td>\n",
       "    </tr>\n",
       "    <tr>\n",
       "      <th>0.001100</th>\n",
       "      <td>0.001099</td>\n",
       "    </tr>\n",
       "    <tr>\n",
       "      <th>0.011100</th>\n",
       "      <td>0.011039</td>\n",
       "    </tr>\n",
       "    <tr>\n",
       "      <th>0.111100</th>\n",
       "      <td>0.105151</td>\n",
       "    </tr>\n",
       "    <tr>\n",
       "      <th>0.707320</th>\n",
       "      <td>0.507021</td>\n",
       "    </tr>\n",
       "    <tr>\n",
       "      <th>1.508281</th>\n",
       "      <td>0.778648</td>\n",
       "    </tr>\n",
       "    <tr>\n",
       "      <th>2.476880</th>\n",
       "      <td>0.915889</td>\n",
       "    </tr>\n",
       "    <tr>\n",
       "      <th>3.637344</th>\n",
       "      <td>0.973546</td>\n",
       "    </tr>\n",
       "    <tr>\n",
       "      <th>5.000000</th>\n",
       "      <td>0.993142</td>\n",
       "    </tr>\n",
       "  </tbody>\n",
       "</table>\n",
       "</div>"
      ],
      "text/plain": [
       "Temperature      body\n",
       "Time                 \n",
       "0.000000     0.000000\n",
       "0.000100     0.000100\n",
       "0.001100     0.001099\n",
       "0.011100     0.011039\n",
       "0.111100     0.105151\n",
       "0.707320     0.507021\n",
       "1.508281     0.778648\n",
       "2.476880     0.915889\n",
       "3.637344     0.973546\n",
       "5.000000     0.993142"
      ]
     },
     "execution_count": 7,
     "metadata": {},
     "output_type": "execute_result"
    }
   ],
   "source": [
    "df = results[point_body].temp_frame()\n",
    "df"
   ]
  },
  {
   "cell_type": "markdown",
   "metadata": {},
   "source": [
    "The DataFrame also supports plotting. Note that the axis labels are already set."
   ]
  },
  {
   "cell_type": "code",
   "execution_count": 8,
   "metadata": {},
   "outputs": [
    {
     "data": {
      "image/png": "[encoded data removed]",
      "text/plain": [
       "<Figure size 640x480 with 1 Axes>"
      ]
     },
     "metadata": {},
     "output_type": "display_data"
    }
   ],
   "source": [
    "df.plot();"
   ]
  }
 ],
 "metadata": {
  "kernelspec": {
   "display_name": "Python 3 (ipykernel)",
   "language": "python",
   "name": "python3"
  },
  "language_info": {
   "codemirror_mode": {
    "name": "ipython",
    "version": 3
   },
   "file_extension": ".py",
   "mimetype": "text/x-python",
   "name": "python",
   "nbconvert_exporter": "python",
   "pygments_lexer": "ipython3",
   "version": "3.10.13"
  }
 },
 "nbformat": 4,
 "nbformat_minor": 4
}
