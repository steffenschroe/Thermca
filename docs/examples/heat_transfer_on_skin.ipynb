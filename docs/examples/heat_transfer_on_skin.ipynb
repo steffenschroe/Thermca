{
 "cells": [
  {
   "cell_type": "markdown",
   "id": "a39ad6db-170b-4f78-9d05-f3c29fbcc216",
   "metadata": {},
   "source": [
    "# Heat transfer on skin\n",
    "\n",
    "* Model the heat exchange of a human with the environment\n",
    "* Use the heat exchange of a bare forearm in an room environment as an basic example\n",
    "* Consider heat radiation, free and forced convection\n",
    "* Neglect evaporation\n",
    "\n",
    "## Boundary conditions"
   ]
  },
  {
   "cell_type": "code",
   "execution_count": 1,
   "id": "aaa39ed0-c177-4d04-ab5f-21775e5362a9",
   "metadata": {},
   "outputs": [],
   "source": [
    "from thermca import *\n",
    "\n",
    "# Units as SI, temperatures as °C\n",
    "room_air_temperature = 22\n",
    "room_surface_temperature = 22\n",
    "forearm_temperature = 36\n",
    "emission_coefficient_room_surfaces = .8\n",
    "emission_coefficient_skin = .95\n",
    "room_air_velocity = .1  # Rough estimation for slightly occupied rooms\n",
    "forearm_radius = .035\n",
    "forearm_length = .25"
   ]
  },
  {
   "cell_type": "markdown",
   "id": "a3fae53e-31be-4d2e-91a1-ec46ebce0068",
   "metadata": {},
   "source": [
    "## Radiation\n",
    "\n",
    "Calculate the radiation dependent on temperature, orientation and characteristics\n",
    "of the arm surface and the surfaces of the environment around the arm. Start with \n",
    "the resulting emissivity of two surfaces in thermal radiation exchange. This is \n",
    "needed as an input to calculate the heat transfer coefficient (film coefficient)."
   ]
  },
  {
   "cell_type": "code",
   "execution_count": 2,
   "id": "1d5a0b0a-080c-4906-b3f5-f56863dc59a7",
   "metadata": {},
   "outputs": [
    {
     "name": "stdout",
     "output_type": "stream",
     "text": [
      "resulting_emissivity=0.7676767676767677\n"
     ]
    }
   ],
   "source": [
    "resulting_emissivity = radiation.res_emis(\n",
    "    emis0=emission_coefficient_skin,\n",
    "    emis1=emission_coefficient_room_surfaces, \n",
    "    view0=1, # The skin surface sees the room surface completely\n",
    "    view1=1, # The room surface sees the skin surface completely\n",
    ")\n",
    "print(f\"{resulting_emissivity=}\")"
   ]
  },
  {
   "cell_type": "markdown",
   "id": "fbc7d8f0-1f16-4dcd-ab96-641034a00d5d",
   "metadata": {},
   "source": [
    "### Calculate the radiation heat transfer coefficient\n",
    "\n",
    "The library function `radiation.therm_radn` is available for determining the radiation \n",
    "heat transfer coefficient.\n",
    "\n",
    "The library functions work in two steps. First, they are parameterised by the \"additional\" arguments starting at argument number 4. The library functions return a \"parameterised function\" that can be consumed by model elements. The second step is to call that function. In the case of a simulation, the parametrised function is given to the model elements and called \n",
    "internally by the solver. Otherwise it must be called manually, which is shown here.\n",
    "\n",
    "The parameters of this parametrised function are standardised. They are the temperatures \n",
    "of the elements in heat exchange and optionally the material influencing the heat transfer.\n",
    "In the case of radiation, the material parameter is irrelevant."
   ]
  },
  {
   "cell_type": "code",
   "execution_count": 3,
   "id": "05460eeb-22c9-4d95-979f-088d2d45ceef",
   "metadata": {},
   "outputs": [
    {
     "name": "stdout",
     "output_type": "stream",
     "text": [
      "radiation_heat_coefficient=4.8055738452682135 W/(m²K)\n"
     ]
    }
   ],
   "source": [
    "parametrised_radiation_function = radiation.therm_radn(res_emis=resulting_emissivity)\n",
    "radiation_heat_coefficient = parametrised_radiation_function(\n",
    "    surf0_temp=forearm_temperature, \n",
    "    surf1_temp=room_surface_temperature,\n",
    ")\n",
    "print(f\"{radiation_heat_coefficient=} W/(m²K)\")"
   ]
  },
  {
   "cell_type": "markdown",
   "id": "6cbc286b-7eac-4026-9099-e2a49fbe1363",
   "metadata": {},
   "source": [
    "## Convection\n",
    "\n",
    "### Calculate the heat transfer coefficient of free convection \n",
    "\n",
    "The convection heat transfer on a hanging forearm is similar to convection on a vertical cylinder. This in turn is similar to the convection on a vertical surface which is used in this case.\n",
    "\n",
    "The vertical surface convection model is provided by the `free_conv.vert_surf` library function."
   ]
  },
  {
   "cell_type": "code",
   "execution_count": 4,
   "id": "0d36c32d-1bc8-4c74-860a-980d3e10020b",
   "metadata": {},
   "outputs": [
    {
     "name": "stdout",
     "output_type": "stream",
     "text": [
      "convection_coefficient=3.889609859462753 W/(m²K)\n"
     ]
    }
   ],
   "source": [
    "parametrised_convection_fuction = free_conv.vert_surf(surf_hgt=forearm_length)\n",
    "convection_coefficient = parametrised_convection_fuction(forearm_temperature, room_air_temperature, fluids.air)\n",
    "print(f\"{convection_coefficient=} W/(m²K)\")"
   ]
  },
  {
   "cell_type": "markdown",
   "id": "e8887653-c8ea-4cad-83b9-953c84ab36e8",
   "metadata": {},
   "source": [
    "### Calculate the heat transfer coefficient of forced convection \n",
    "\n",
    "In occupied rooms, forced air flows are generated by a variety of processes. We assume that the forearm is surrounded by a light flow of air in a right-angled direction. This is approximated by the convection model provided by the `forced_conv.cyl_cross_flow` library function."
   ]
  },
  {
   "cell_type": "code",
   "execution_count": 5,
   "id": "a5978b55-91aa-429e-8c23-cccc2240b2cb",
   "metadata": {},
   "outputs": [
    {
     "name": "stdout",
     "output_type": "stream",
     "text": [
      "forced_convection_coefficient=3.8022233532323804 W/(m²K)\n"
     ]
    }
   ],
   "source": [
    "parametrised_forced_convection_fuction = forced_conv.cyl_cross_flow(\n",
    "    vel=room_air_velocity, \n",
    "    rad=forearm_radius,\n",
    ")\n",
    "forced_convection_coefficient = parametrised_forced_convection_fuction(\n",
    "    surf_temp=forearm_temperature, \n",
    "    fluid_temp=room_air_temperature, \n",
    "    fluid=fluids.air,\n",
    ")\n",
    "print(f\"{forced_convection_coefficient=} W/(m²K)\")"
   ]
  },
  {
   "cell_type": "markdown",
   "id": "108ecdfe-e12d-46fb-9716-ee64d487b71e",
   "metadata": {},
   "source": [
    "### Combined acting of forced and natural convection\n",
    "\n",
    "A common approach to describe combined acting of forced and natural convection is provided by the `combd_film.mix_conv` library function. It distinguishes between assisting, opposing and transverse convection flows. \n",
    "\n",
    "Parametrised functions as well as scalars can be passed to this function."
   ]
  },
  {
   "cell_type": "code",
   "execution_count": 6,
   "id": "da58d96e-3775-44ca-9892-d7c6c9efb72a",
   "metadata": {},
   "outputs": [
    {
     "name": "stdout",
     "output_type": "stream",
     "text": [
      "combined_convection_coefficient=4.574476631734567 W/(m²K)\n"
     ]
    }
   ],
   "source": [
    "parametrised_convection_fuction = combd_film.mix_conv(\n",
    "    parametrised_convection_fuction, \n",
    "    parametrised_forced_convection_fuction, \n",
    "    flow=TRANSVERSE,\n",
    ")\n",
    "combined_convection_coefficient = parametrised_convection_fuction(\n",
    "    forearm_temperature, \n",
    "    room_air_temperature, \n",
    "    fluids.air,\n",
    ")\n",
    "print(f\"{combined_convection_coefficient=} W/(m²K)\")"
   ]
  },
  {
   "cell_type": "markdown",
   "id": "bf32814e-1585-49dc-8ae9-c91b7da7653a",
   "metadata": {},
   "source": [
    "## Heat flux\n",
    "\n",
    "In this example, slightly more heat is released from the skin via radiation than via convection."
   ]
  },
  {
   "cell_type": "code",
   "execution_count": 7,
   "id": "2bb122b9-f811-483d-98d5-0ec1965cc930",
   "metadata": {},
   "outputs": [
    {
     "name": "stdout",
     "output_type": "stream",
     "text": [
      "radiation_heat_flux=67.27803383375499 W/m²\n",
      "convection_heat_flux=64.04267284428393 W/m²\n"
     ]
    }
   ],
   "source": [
    "radiation_heat_flux = radiation_heat_coefficient * (forearm_temperature - room_surface_temperature)\n",
    "convection_heat_flux = combined_convection_coefficient * (forearm_temperature - room_air_temperature)\n",
    "print(f\"{radiation_heat_flux=} W/m²\\n{convection_heat_flux=} W/m²\")"
   ]
  }
 ],
 "metadata": {
  "kernelspec": {
   "display_name": "Python 3 (ipykernel)",
   "language": "python",
   "name": "python3"
  },
  "language_info": {
   "codemirror_mode": {
    "name": "ipython",
    "version": 3
   },
   "file_extension": ".py",
   "mimetype": "text/x-python",
   "name": "python",
   "nbconvert_exporter": "python",
   "pygments_lexer": "ipython3",
   "version": "3.10.13"
  }
 },
 "nbformat": 4,
 "nbformat_minor": 5
}
